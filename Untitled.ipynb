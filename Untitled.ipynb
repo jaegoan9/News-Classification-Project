{
 "cells": [
  {
   "cell_type": "code",
   "execution_count": 1,
   "metadata": {},
   "outputs": [],
   "source": [
    "from nltk.stem import WordNetLemmatizer\n",
    "import pandas as pd\n",
    "import numpy as np\n",
    "import nltk\n",
    "import sys\n",
    "import re\n",
    "import os.path\n",
    "import json\n",
    "from nltk.corpus import stopwords\n",
    "from nltk.tokenize import word_tokenize\n",
    "from nltk.stem import PorterStemmer\n",
    "from collections import defaultdict, OrderedDict\n",
    "from sklearn.model_selection import train_test_split\n",
    "from sklearn.metrics import accuracy_score\n",
    "from sklearn.tree import DecisionTreeClassifier"
   ]
  },
  {
   "cell_type": "code",
   "execution_count": null,
   "metadata": {},
   "outputs": [],
   "source": [
    "nltk.download('stopwords')\n",
    "nltk.download('wordnet')\n",
    "# Initialize Stemmer\n",
    "ps = PorterStemmer()\n",
    "wl = WordNetLemmatizer()\n",
    "# Word match regex to exclude digits\n",
    "word_pattern = re.compile(r'[^\\W\\d]')\n",
    "# Set of stopwords\n",
    "stopword_set = set(stopwords.words('english'))\n",
    "\n",
    "# Import news title dataset with pandas\n",
    "dataset = pd.read_csv('uci-news-aggregator.csv')\n",
    "\n",
    "# List containing each title as item\n",
    "titles = [title for title in dataset['TITLE']]\n",
    "true_label = [label for label in dataset['CATEGORY']]\n",
    "\n",
    "# Only create stemmed word file if no file exists\n",
    "if (not os.path.exists('lemmatized.txt') or not os.path.exists('lemmatized_sentences.txt')):\n",
    "\tprint(\"Creating text files to extract from......\")\n",
    "\twith open('lemmatized.txt', 'w') as file, open('lemmatized_sentences.txt', 'w') as file1:\n",
    "\t\tfor title in titles:\n",
    "\t\t\ttemp_title = []\n",
    "\t\t\t# split title into vector of words\n",
    "\t\t\tfor word in title.split():\n",
    "\t\t\t\tword = word.lower().rstrip('?:!.,;')\n",
    "\t\t\t\tif word not in stopword_set and 'http://' not in word and 'www' not in word:\n",
    "\t\t\t\t\tif word_pattern.match(word):\n",
    "\t\t\t\t\t\t# Add stemmed words to text file\n",
    "\t\t\t\t\t\tword_temp = wl.lemmatize(word).rstrip(\"'\")\n",
    "\t\t\t\t\t\tfile.write(word_temp + '\\n')\n",
    "\t\t\t\t\t\ttemp_title.append(word_temp)\n",
    "\t\t\t# Write titles to stemmed_sentences.txt\n",
    "\t\t\tfile1.write(' '.join(temp_title) + '\\n')\n",
    "else:\n",
    "\tprint (\"stemmed text files already present.\")"
   ]
  },
  {
   "cell_type": "code",
   "execution_count": null,
   "metadata": {},
   "outputs": [],
   "source": []
  }
 ],
 "metadata": {
  "kernelspec": {
   "display_name": "Python 2",
   "language": "python",
   "name": "python2"
  },
  "language_info": {
   "codemirror_mode": {
    "name": "ipython",
    "version": 2
   },
   "file_extension": ".py",
   "mimetype": "text/x-python",
   "name": "python",
   "nbconvert_exporter": "python",
   "pygments_lexer": "ipython2",
   "version": "2.7.10"
  }
 },
 "nbformat": 4,
 "nbformat_minor": 2
}
